{
 "cells": [
  {
   "cell_type": "markdown",
   "metadata": {},
   "source": [
    "# SETS\n",
    "\n",
    "**Set** = Collection of objects with NO DUPLICATES, order does not matter\n",
    "\n",
    "Math (enumeration) notation: curly braces {} , elements separated by comma.\n",
    "\n",
    "**Empty set** = {}, contains no elements\n",
    "\n",
    "**Examples**:\n",
    "{1,2,3,4}, {1,2,3, ...}, {3/2, 1.7, $\\pi$}\n",
    "\n",
    "if x is an element of set A, we say $x\\in A$\n",
    "\n",
    "**SUBSET**: we say A is a subset of B, or A⊂B, if all elements of A are also elements of B\n",
    "\n",
    "**More examples (and definitions)**\n",
    "\n",
    "Natural numbers $\\mathbb{N}$ = {1,2,3,4,...}\n",
    "\n",
    "Integers $\\mathbb{Z}$ ={...,-3,-2,-1,0,1,2,3,...}\n",
    "\n",
    "Rational numbers $\\mathbb{Q}$ = { p/q | p,q $\\in\\mathbb{Z}$ and q $\\neq$0}\n",
    "\n",
    "Real numbers $\\mathbb{R}$\n",
    "\n",
    "**INTERSECTION**: $A \\cap B$ = { x| x $\\in A$ AND x $\\in B$} \n",
    "\n",
    "{1, 2} ∩ {2, 3} = {2}\n",
    "\n",
    "{1, 2} ∩ {3, 4} = {} (also denoted by ∅)\n",
    "\n",
    "**UNION**: $A \\cup B$ = { x| x $\\in A$ OR x $\\in B$}\n",
    "\n",
    "{1, 2} ∪ {2, 3} = {1, 2, 3}\n"
   ]
  },
  {
   "cell_type": "code",
   "execution_count": null,
   "metadata": {},
   "outputs": [],
   "source": []
  },
  {
   "cell_type": "raw",
   "metadata": {},
   "source": []
  },
  {
   "cell_type": "code",
   "execution_count": null,
   "metadata": {},
   "outputs": [],
   "source": []
  }
 ],
 "metadata": {
  "kernelspec": {
   "display_name": "Python 3",
   "language": "python",
   "name": "python3"
  },
  "language_info": {
   "codemirror_mode": {
    "name": "ipython",
    "version": 3
   },
   "file_extension": ".py",
   "mimetype": "text/x-python",
   "name": "python",
   "nbconvert_exporter": "python",
   "pygments_lexer": "ipython3",
   "version": "3.7.4"
  }
 },
 "nbformat": 4,
 "nbformat_minor": 2
}
