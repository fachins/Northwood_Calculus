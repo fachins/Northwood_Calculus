{
 "cells": [
  {
   "cell_type": "markdown",
   "metadata": {},
   "source": [
    "# SETS\n",
    "\n",
    "**Set** = Collection of objects with NO DUPLICATES, order does not matter\n",
    "\n",
    "Math (enumeration) notation: curly braces {} , elements separated by comma.\n",
    "\n",
    "**Empty set** = {}, contains no elements\n",
    "\n",
    "**Examples**:\n",
    "{1,2,3,4}, {1,2,3, ...}, {3/2, 1.7, $\\pi$}\n",
    "\n",
    "if x is an element of set A, we say $x\\in A$ (x in A)\n",
    "\n",
    "**SUBSET**: we say A is a subset of B, or A⊂B, if all elements of A are also elements of B\n",
    "\n",
    "**More examples (and definitions)**\n",
    "\n",
    "Natural numbers $\\mathbb{N}$ = {1,2,3,4,...}\n",
    "\n",
    "Integers $\\mathbb{Z}$ ={...,-3,-2,-1,0,1,2,3,...}\n",
    "\n",
    "Rational numbers $\\mathbb{Q}$ = { p/q | p,q $\\in\\mathbb{Z}$ and q $\\neq$0}\n",
    "\n",
    "Real numbers $\\mathbb{R}$\n",
    "\n",
    "**INTERSECTION**: $A \\cap B$ = { x| x $\\in A$ AND x $\\in B$} \n",
    "\n",
    "{1, 2} ∩ {2, 3} = {2}\n",
    "\n",
    "{1, 2} ∩ {3, 4} = {} (also denoted by ∅)\n",
    "\n",
    "**UNION**: $A \\cup B$ = { x| x $\\in A$ OR x $\\in B$}\n",
    "\n",
    "{1, 2} ∪ {2, 3} = {1, 2, 3}\n"
   ]
  },
  {
   "cell_type": "code",
   "execution_count": 45,
   "metadata": {},
   "outputs": [],
   "source": [
    "A = set([1,2,3,4])\n",
    "B= set([3,4,7,1])"
   ]
  },
  {
   "cell_type": "code",
   "execution_count": 46,
   "metadata": {},
   "outputs": [
    {
     "data": {
      "text/plain": [
       "{1, 2, 3, 4, 7}"
      ]
     },
     "execution_count": 46,
     "metadata": {},
     "output_type": "execute_result"
    }
   ],
   "source": [
    "set.union(A,B)"
   ]
  },
  {
   "cell_type": "code",
   "execution_count": 47,
   "metadata": {},
   "outputs": [
    {
     "data": {
      "text/plain": [
       "{1, 3, 4}"
      ]
     },
     "execution_count": 47,
     "metadata": {},
     "output_type": "execute_result"
    }
   ],
   "source": [
    "set.intersection(A,B)"
   ]
  },
  {
   "cell_type": "markdown",
   "metadata": {},
   "source": [
    "# INTERVALS\n",
    "\n",
    "Intervals are special sets or real numbers.\n",
    "\n",
    "[a,b]= { $x\\in \\mathbb{R}$ | $a \\leq x \\leq b$}  (closed interval)\n",
    "\n",
    "(a,b]= { $x\\in \\mathbb{R}$ | $a < x \\leq b$}  (open on left, closed on right)\n",
    "\n",
    "(-$\\infty$, a] = {x$\\in \\mathbb{R}$ | x $\\leq$ a}"
   ]
  },
  {
   "cell_type": "markdown",
   "metadata": {},
   "source": [
    "# FUNCTIONS\n",
    "\n",
    "A $function$ is a relation between two sets that associates each element of the first set ($domain$) to $exactly$ $one$ $element$ of the second set ($range$)."
   ]
  },
  {
   "cell_type": "code",
   "execution_count": 48,
   "metadata": {},
   "outputs": [],
   "source": [
    "import numpy as np\n",
    "import matplotlib.pyplot as plt"
   ]
  },
  {
   "cell_type": "markdown",
   "metadata": {},
   "source": [
    "**FUNCTION EXAMPLES**"
   ]
  },
  {
   "cell_type": "code",
   "execution_count": 49,
   "metadata": {},
   "outputs": [],
   "source": [
    "def f(x):\n",
    "    #linear function\n",
    "    return x\n",
    "    \n",
    "    #constant function\n",
    "    #return 3\n",
    "    \n",
    "    #absolute value function\n",
    "    #return np.fabs(x)\n",
    "    \n",
    "    #square function\n",
    "    #return x**2\n",
    "    \n",
    "    #floor function\n",
    "    #biggest integer smaller or equal to x\n",
    "    #return np.floor(x)\n",
    "    \n",
    "    #ceiling function\n",
    "    #smallest integer bigger or equal to x\n",
    "    #return np.ceil(x)\n"
   ]
  },
  {
   "cell_type": "code",
   "execution_count": 51,
   "metadata": {},
   "outputs": [
    {
     "data": {
      "image/png": "[encoded data removed]",
      "text/plain": [
       "<Figure size 432x288 with 1 Axes>"
      ]
     },
     "metadata": {
      "needs_background": "light"
     },
     "output_type": "display_data"
    }
   ],
   "source": [
    "#Plot f(x) betwwn xleft and xright\n",
    "\n",
    "xleft=-3\n",
    "xright=3\n",
    "\n",
    "#set up plot\n",
    "xrange = np.linspace(xleft,xright,100)\n",
    "yrange = [f(x) for x in xrange]\n",
    "plt.plot(xrange,yrange)\n",
    "\n",
    "#add axis to plt\n",
    "ax = plt.gca()\n",
    "ax.spines['top'].set_color('none')\n",
    "ax.spines['bottom'].set_position('zero')\n",
    "ax.spines['left'].set_position('zero')\n",
    "ax.spines['right'].set_color('none')\n",
    "\n",
    "#display plot\n",
    "plt.show()"
   ]
  },
  {
   "cell_type": "markdown",
   "metadata": {},
   "source": [
    "**EVEN AND ODD FUNCTIONS**\n",
    "\n",
    "A function is $even$ if f(-x) = f(x)\n",
    "\n",
    "A function id $odd$ if f(-x) = - f(x)"
   ]
  },
  {
   "cell_type": "code",
   "execution_count": 56,
   "metadata": {},
   "outputs": [],
   "source": [
    "def evenf(x):\n",
    "    return x**4\n",
    "\n",
    "def oddf(x):\n",
    "    return x**5"
   ]
  },
  {
   "cell_type": "code",
   "execution_count": 59,
   "metadata": {},
   "outputs": [
    {
     "data": {
      "image/png": "[encoded data removed]",
      "text/plain": [
       "<Figure size 432x288 with 1 Axes>"
      ]
     },
     "metadata": {
      "needs_background": "light"
     },
     "output_type": "display_data"
    }
   ],
   "source": [
    "#Plot f(x) betwwn xleft and xright\n",
    "xleft=-10\n",
    "xright=10\n",
    "\n",
    "#set up plot\n",
    "xrange = np.linspace(xleft,xright,100)\n",
    "yrange1 = [evenf(x) for x in xrange]\n",
    "yrange2=[oddf(x) for x in xrange]\n",
    "\n",
    "#even function plot\n",
    "#plt.plot(xrange,yrange1)\n",
    "\n",
    "#odd function plot\n",
    "plt.plot(xrange,yrange2)\n",
    "\n",
    "#add axis to plt\n",
    "ax = plt.gca()\n",
    "ax.spines['top'].set_color('none')\n",
    "ax.spines['bottom'].set_position('zero')\n",
    "ax.spines['left'].set_position('zero')\n",
    "ax.spines['right'].set_color('none')\n",
    "#display plot\n",
    "plt.show()"
   ]
  },
  {
   "cell_type": "markdown",
   "metadata": {},
   "source": [
    "**INCREASING AND DECREASING FUNCTIONS**\n",
    " \n",
    "A function in $increasing$ in an interval [a,b] if for any $x_1 \\leq x_2 \\in [a,b]$ $f(x_1) \\leq f(x_2)$\n",
    "\n",
    "A function in $decreasing$ in an interval [a,b] if for any $x_1 \\leq x_2 \\in [a,b]$ $f(x_1) \\geq f(x_2)$"
   ]
  },
  {
   "cell_type": "code",
   "execution_count": null,
   "metadata": {},
   "outputs": [],
   "source": []
  }
 ],
 "metadata": {
  "kernelspec": {
   "display_name": "Python 3",
   "language": "python",
   "name": "python3"
  },
  "language_info": {
   "codemirror_mode": {
    "name": "ipython",
    "version": 3
   },
   "file_extension": ".py",
   "mimetype": "text/x-python",
   "name": "python",
   "nbconvert_exporter": "python",
   "pygments_lexer": "ipython3",
   "version": "3.8.8"
  }
 },
 "nbformat": 4,
 "nbformat_minor": 4
}
